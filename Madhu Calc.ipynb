{
 "cells": [
  {
   "cell_type": "code",
   "execution_count": 2,
   "id": "1724ff8b",
   "metadata": {},
   "outputs": [
    {
     "name": "stdout",
     "output_type": "stream",
     "text": [
      "selection operation\n",
      "1.add\n",
      "2.sub\n",
      "3.multiply\n",
      "4.divide\n",
      "please select operation : 2\n",
      "enter the first number :4\n",
      "enter the second number :2\n",
      "4.0 - 2.0 = 2.0\n",
      " do you want to do next operation (yes/no) : no\n",
      "thanks for using me\n"
     ]
    }
   ],
   "source": [
    "import numpy as np \n",
    "import pandas as pd \n",
    "#to add two numbers\n",
    "def add (x,y) :\n",
    "    return x+y\n",
    "#to sub two numbers \n",
    "def sub(x,y) :\n",
    "    return x - y\n",
    "#to multply \n",
    "def multiply(x,y):\n",
    "    return x * y\n",
    "def divide(x,y):\n",
    "    return x/y\n",
    "\n",
    "print (\"selection operation\")\n",
    "print (\"1.add\")\n",
    "print (\"2.sub\")\n",
    "print (\"3.multiply\")\n",
    "print (\"4.divide\")\n",
    "\n",
    "#getting input from user \n",
    "\n",
    "while True :\n",
    "    \n",
    "    choice = int (input ( \"please select operation : \"))\n",
    "#     print(choice)\n",
    "#     print(type(choice))\n",
    "    \n",
    "    \n",
    "    if choice in (1 , 2 , 3 , 4) :\n",
    "        num1 = float (input (\"enter the first number :\"))\n",
    "        num2 = float (input (\"enter the second number :\"))\n",
    "        \n",
    "        if choice == 1:\n",
    "            print ( num1 , \"+\" , num2 , \"=\" , add(num1,num2))\n",
    "            \n",
    "        elif choice == 2:\n",
    "            print (num1 , \"-\" , num2 , \"=\" , sub(num1,num2))\n",
    "        elif choice == 3:\n",
    "            print (num1 , \"*\" , num2 , \"=\" , multiply(num1,num2))\n",
    "        elif choice == 4:\n",
    "            print (num1 , \"/\" , num2 , \"=\" , divide(num1 , num2))\n",
    "        next_operation = input (\" do you want to do next operation (yes/no) : \")\n",
    "        if next_operation == 'no':\n",
    "            print(\"byebye\")\n",
    "            break \n",
    "    else :\n",
    "        print (\"invalid input \")"
   ]
  },
  {
   "cell_type": "code",
   "execution_count": null,
   "id": "393a8b3a",
   "metadata": {},
   "outputs": [],
   "source": []
  }
 ],
 "metadata": {
  "kernelspec": {
   "display_name": "Python 3",
   "language": "python",
   "name": "python3"
  },
  "language_info": {
   "codemirror_mode": {
    "name": "ipython",
    "version": 3
   },
   "file_extension": ".py",
   "mimetype": "text/x-python",
   "name": "python",
   "nbconvert_exporter": "python",
   "pygments_lexer": "ipython3",
   "version": "3.8.8"
  }
 },
 "nbformat": 4,
 "nbformat_minor": 5
}
